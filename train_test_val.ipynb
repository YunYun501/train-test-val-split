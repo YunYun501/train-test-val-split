{
 "cells": [
  {
   "cell_type": "code",
   "execution_count": 1,
   "id": "79128506-c9db-4248-af08-cf8109698689",
   "metadata": {},
   "outputs": [
    {
     "name": "stdout",
     "output_type": "stream",
     "text": [
      "Data split completed successfully.\n",
      "Total files: 1194\n",
      "Train: 1074 files\n",
      "Test: 119 files\n"
     ]
    },
    {
     "ename": "NameError",
     "evalue": "name 'val_files' is not defined",
     "output_type": "error",
     "traceback": [
      "\u001b[1;31m---------------------------------------------------------------------------\u001b[0m",
      "\u001b[1;31mNameError\u001b[0m                                 Traceback (most recent call last)",
      "Cell \u001b[1;32mIn[1], line 63\u001b[0m\n\u001b[0;32m     61\u001b[0m \u001b[38;5;28mprint\u001b[39m(\u001b[38;5;124mf\u001b[39m\u001b[38;5;124m\"\u001b[39m\u001b[38;5;124mTrain: \u001b[39m\u001b[38;5;132;01m{\u001b[39;00m\u001b[38;5;28mlen\u001b[39m(train_files)\u001b[38;5;132;01m}\u001b[39;00m\u001b[38;5;124m files\u001b[39m\u001b[38;5;124m\"\u001b[39m)\n\u001b[0;32m     62\u001b[0m \u001b[38;5;28mprint\u001b[39m(\u001b[38;5;124mf\u001b[39m\u001b[38;5;124m\"\u001b[39m\u001b[38;5;124mTest: \u001b[39m\u001b[38;5;132;01m{\u001b[39;00m\u001b[38;5;28mlen\u001b[39m(test_files)\u001b[38;5;132;01m}\u001b[39;00m\u001b[38;5;124m files\u001b[39m\u001b[38;5;124m\"\u001b[39m)\n\u001b[1;32m---> 63\u001b[0m \u001b[38;5;28mprint\u001b[39m(\u001b[38;5;124mf\u001b[39m\u001b[38;5;124m\"\u001b[39m\u001b[38;5;124mValidation: \u001b[39m\u001b[38;5;132;01m{\u001b[39;00m\u001b[38;5;28mlen\u001b[39m(\u001b[43mval_files\u001b[49m)\u001b[38;5;132;01m}\u001b[39;00m\u001b[38;5;124m files\u001b[39m\u001b[38;5;124m\"\u001b[39m)\n",
      "\u001b[1;31mNameError\u001b[0m: name 'val_files' is not defined"
     ]
    }
   ],
   "source": [
    "import os\n",
    "import shutil\n",
    "import random\n",
    "from pathlib import Path\n",
    "\n",
    "# Input directories (replace with actual paths)\n",
    "jpg_dir = r\"C:\\Users\\felix\\MachineLearning\\Side Quests\\Old_raw_img_label\\Raw_img_original\"\n",
    "txt_dir = r\"C:\\Users\\felix\\MachineLearning\\Side Quests\\Old_raw_img_label\\Raw_Label_Original\"\n",
    "\n",
    "# Output directories\n",
    "output_dirs = {\n",
    "    'train_images': 'train_images',\n",
    "    'test_images': 'test_images',\n",
    "    'val_images': 'val_images',\n",
    "    'train_texts': 'train_texts',\n",
    "    'test_texts': 'test_texts',\n",
    "    'val_texts': 'val_texts'\n",
    "}\n",
    "\n",
    "# Create output directories if they don't exist\n",
    "for dir_path in output_dirs.values():\n",
    "    os.makedirs(dir_path, exist_ok=True)\n",
    "\n",
    "# Get all common file names (without extensions)\n",
    "jpg_files = {f.stem for f in Path(jpg_dir).glob(\"*.jpg\")}\n",
    "txt_files = {f.stem for f in Path(txt_dir).glob(\"*.json\")}\n",
    "\n",
    "# Ensure files match in both directories\n",
    "common_files = list(jpg_files.intersection(txt_files))\n",
    "random.shuffle(common_files)\n",
    "\n",
    "# Split the data into 70% train, 20% test, and 10% validation\n",
    "total_files = len(common_files)\n",
    "train_split = int(0.9 * total_files)\n",
    "test_split = int(0.1 * total_files)\n",
    "\n",
    "train_files = common_files[:train_split]\n",
    "test_files = common_files[train_split:train_split + test_split]\n",
    "#val_files = common_files[train_split + test_split:]\n",
    "\n",
    "# Function to copy files to target directories\n",
    "def copy_files(file_list, src_folder, dst_folder, ext):\n",
    "    for file in file_list:\n",
    "        src_path = os.path.join(src_folder, file + ext)\n",
    "        dst_path = os.path.join(dst_folder, file + ext)\n",
    "        if os.path.exists(src_path):\n",
    "            shutil.copy(src_path, dst_path)\n",
    "\n",
    "# Copy JPG files\n",
    "copy_files(train_files, jpg_dir, output_dirs['train_images'], '.jpg')\n",
    "copy_files(test_files, jpg_dir, output_dirs['test_images'], '.jpg')\n",
    "#copy_files(val_files, jpg_dir, output_dirs['val_images'], '.jpg')\n",
    "\n",
    "# Copy TXT files\n",
    "copy_files(train_files, txt_dir, output_dirs['train_texts'], '.txt')\n",
    "copy_files(test_files, txt_dir, output_dirs['test_texts'], '.txt')\n",
    "#copy_files(val_files, txt_dir, output_dirs['val_texts'], '.txt')\n",
    "\n",
    "print(f\"Data split completed successfully.\")\n",
    "print(f\"Total files: {total_files}\")\n",
    "print(f\"Train: {len(train_files)} files\")\n",
    "print(f\"Test: {len(test_files)} files\")\n",
    "#print(f\"Validation: {len(val_files)} files\")\n"
   ]
  },
  {
   "cell_type": "code",
   "execution_count": null,
   "id": "1c0bcffc-f83d-45e6-8b48-59a60b28602c",
   "metadata": {},
   "outputs": [],
   "source": []
  }
 ],
 "metadata": {
  "kernelspec": {
   "display_name": "Python 3 (ipykernel)",
   "language": "python",
   "name": "python3"
  },
  "language_info": {
   "codemirror_mode": {
    "name": "ipython",
    "version": 3
   },
   "file_extension": ".py",
   "mimetype": "text/x-python",
   "name": "python",
   "nbconvert_exporter": "python",
   "pygments_lexer": "ipython3",
   "version": "3.11.4"
  }
 },
 "nbformat": 4,
 "nbformat_minor": 5
}
